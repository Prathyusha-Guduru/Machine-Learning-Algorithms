{
 "cells": [
  {
   "cell_type": "markdown",
   "metadata": {},
   "source": [
    "# ML Assignment - 1\n",
    "## Prathyusha Guduru - CSE C\n",
    "### AP19110010494\n"
   ]
  },
  {
   "cell_type": "code",
   "execution_count": 68,
   "metadata": {},
   "outputs": [],
   "source": [
    "import numpy as np\n",
    "import pandas as pd\n",
    "import random"
   ]
  },
  {
   "cell_type": "code",
   "execution_count": 69,
   "metadata": {},
   "outputs": [],
   "source": [
    "# Creating random arrays\n",
    "x = np.random.rand(5,5)\n",
    "y = np.random.rand(5,5)"
   ]
  },
  {
   "cell_type": "code",
   "execution_count": 70,
   "metadata": {},
   "outputs": [],
   "source": [
    "# Calulating center of mass or average\n",
    "avg = (np.mean(x),np.mean(y))"
   ]
  },
  {
   "cell_type": "code",
   "execution_count": 71,
   "metadata": {},
   "outputs": [],
   "source": [
    "# Calculating the variance\n",
    "x_var = np.sum(np.square (x - np.mean(x)))/((np.shape(x)[0]*np.shape(x)[1])-1)\n",
    "y_var = np.sum(np.square (y - np.mean(y)))/((np.shape(y)[0]*np.shape(y)[1])-1)"
   ]
  },
  {
   "cell_type": "code",
   "execution_count": 72,
   "metadata": {},
   "outputs": [
    {
     "data": {
      "text/plain": [
       "-0.014973776734800756"
      ]
     },
     "execution_count": 72,
     "metadata": {},
     "output_type": "execute_result"
    }
   ],
   "source": [
    "# Covariance of single value\n",
    "cov_x_y = np.sum((x-np.mean(x))*(y-np.mean(y)))/((np.shape(x)[0]*np.shape(x)[1])-1)\n",
    "cov_x_y"
   ]
  },
  {
   "cell_type": "code",
   "execution_count": 73,
   "metadata": {},
   "outputs": [
    {
     "data": {
      "text/plain": [
       "array([[ 0.06788548, -0.01497378],\n",
       "       [-0.01497378,  0.08355147]])"
      ]
     },
     "execution_count": 73,
     "metadata": {},
     "output_type": "execute_result"
    }
   ],
   "source": [
    "#Calculating covariance matrix\n",
    "cov_matrix = np.array([[x_var,cov_x_y],[cov_x_y,y_var]])\n",
    "cov_matrix"
   ]
  },
  {
   "cell_type": "code",
   "execution_count": 85,
   "metadata": {},
   "outputs": [
    {
     "data": {
      "text/plain": [
       "-0.19882264660823895"
      ]
     },
     "execution_count": 85,
     "metadata": {},
     "output_type": "execute_result"
    }
   ],
   "source": [
    "#Calculating coreelation coefficient\n",
    "correlation_coeff = cov_x_y/(np.sqrt(x_var*y_var)*np.sqrt(y_var))\n",
    "correlation_coeff"
   ]
  },
  {
   "cell_type": "code",
   "execution_count": 86,
   "metadata": {},
   "outputs": [
    {
     "data": {
      "text/plain": [
       "[[1.0, -0.19882264660823895], [-0.19882264660823895, 1.0]]"
      ]
     },
     "execution_count": 86,
     "metadata": {},
     "output_type": "execute_result"
    }
   ],
   "source": [
    "#Calculating correlation matrix\n",
    "corr_mat = [[x_var/x_var,correlation_coeff],[correlation_coeff,y_var/y_var]]\n",
    "corr_mat"
   ]
  },
  {
   "cell_type": "code",
   "execution_count": 87,
   "metadata": {},
   "outputs": [
    {
     "data": {
      "text/plain": [
       "array([[0.2595128 , 0.13213965, 0.72666107, 0.384062  , 0.36538806],\n",
       "       [0.59120457, 0.50585308, 0.36898544, 0.737685  , 0.18154916],\n",
       "       [0.06366178, 0.41449003, 0.15424781, 0.79418084, 0.32476487],\n",
       "       [0.005493  , 0.40016665, 0.18015503, 0.90941633, 0.3580968 ],\n",
       "       [0.10017567, 0.32272053, 0.34612002, 0.01943638, 0.1401847 ]])"
      ]
     },
     "execution_count": 87,
     "metadata": {},
     "output_type": "execute_result"
    }
   ],
   "source": [
    "#Calcuating euclidean distance \n",
    "euc_distance = np.sqrt(np.square(x-y))\n",
    "euc_distance"
   ]
  }
 ],
 "metadata": {
  "interpreter": {
   "hash": "0ba1f6258c9fa5fb0c231fed128883c8b7e548edbadd4b1a8a40937ca4990807"
  },
  "kernelspec": {
   "display_name": "Python 3.8.12 ('ds')",
   "language": "python",
   "name": "python3"
  },
  "language_info": {
   "codemirror_mode": {
    "name": "ipython",
    "version": 3
   },
   "file_extension": ".py",
   "mimetype": "text/x-python",
   "name": "python",
   "nbconvert_exporter": "python",
   "pygments_lexer": "ipython3",
   "version": "3.8.12"
  },
  "orig_nbformat": 4
 },
 "nbformat": 4,
 "nbformat_minor": 2
}
