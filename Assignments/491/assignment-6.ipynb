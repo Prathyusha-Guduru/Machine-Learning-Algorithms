{
 "cells": [
  {
   "cell_type": "markdown",
   "metadata": {},
   "source": [
    "# ASSIGNMENT - 6 - MACHINE LEARNING LAB\n",
    "### NAME - PULKIT JASTI\n",
    "### ROLL NUMBER - AP19110010491\n",
    "### CSE - C"
   ]
  },
  {
   "cell_type": "markdown",
   "metadata": {},
   "source": [
    "Implement a Naïve Bayes classifier for the IRIS dataset and evaluate the classification\n",
    "performance. Draw the confusion matrix, compute accuracy, error, and other measures as\n",
    "applicable."
   ]
  },
  {
   "cell_type": "code",
   "execution_count": 3,
   "metadata": {},
   "outputs": [
    {
     "name": "stdout",
     "output_type": "stream",
     "text": [
      "Confusion Matrix : \n",
      "[[19  0  0]\n",
      " [ 0 19  2]\n",
      " [ 0  1 19]]\n",
      "\n",
      "Gaussian Naive Bayes model accuracy(in %): 95.0\n",
      "\n",
      "Root Mean Squared Error for the given data is  2.041241452319315\n",
      "\n",
      "Mean Absolute Error for the given data is  2.5\n",
      "\n",
      "R-Squared for the given data is  1.5\n",
      "\n",
      "Classification Report : \n",
      "              precision    recall  f1-score   support\n",
      "\n",
      "           0       1.00      1.00      1.00        19\n",
      "           1       0.95      0.90      0.93        21\n",
      "           2       0.90      0.95      0.93        20\n",
      "\n",
      "    accuracy                           0.95        60\n",
      "   macro avg       0.95      0.95      0.95        60\n",
      "weighted avg       0.95      0.95      0.95        60\n",
      "\n"
     ]
    }
   ],
   "source": [
    "# load the iris dataset\n",
    "import numpy as np\n",
    "from math import sqrt\n",
    "from sklearn.datasets import load_iris\n",
    "from sklearn.metrics import confusion_matrix\n",
    "from sklearn.naive_bayes import GaussianNB\n",
    "from sklearn.model_selection import train_test_split\n",
    "from sklearn.metrics import classification_report\n",
    "from sklearn import metrics\n",
    "iris = load_iris()\n",
    "# store the feature matrix (X) and response vector (y)\n",
    "X = iris.data\n",
    "y = iris.target\n",
    "# splitting X and y into training and testing sets\n",
    "X_train, X_test, y_train, y_test = train_test_split(X, y, test_size=0.4, random_state=1)\n",
    "# training the model on training set\n",
    "gnb = GaussianNB()\n",
    "gnb.fit(X_train, y_train)\n",
    "# making predictions on the testing set\n",
    "y_pred = gnb.predict(X_test)\n",
    "# comparing actual response values (y_test) with predicted response values (y_pred)\n",
    "print(\"Confusion Matrix : \")\n",
    "print(confusion_matrix(y_test, y_pred))\n",
    "print(\"\\nGaussian Naive Bayes model accuracy(in %):\", metrics.accuracy_score(y_test, y_pred)*100)\n",
    "# 1. RMSE: Root Mean Squared Error\n",
    "# 2. MAE: Mean Absolute Error\n",
    "# 3. R-Squared Error\n",
    "y_mean = np.mean(y)\n",
    "rmse_nume = 0\n",
    "mae_nume = 0\n",
    "n = len(y_pred)\n",
    "for i in y:\n",
    "    j = 0\n",
    "    if(j<n):\n",
    "        rmse_nume += (i - y_pred[j])**2\n",
    "        mae_nume += abs(i - y_pred[j])\n",
    "        j = j+1\n",
    "SSR = 0\n",
    "SST = 0\n",
    "for i in y:\n",
    "    j = 0\n",
    "    SST += (i-y_mean)**2\n",
    "    if(j<n):\n",
    "        SSR += (y_pred[j]-y_mean)**2\n",
    "        j = j+1\n",
    "R_Squared = SSR/SST\n",
    "rmse = pow(rmse_nume/n,1/2)\n",
    "mae = mae_nume/n\n",
    "print(\"\\nRoot Mean Squared Error for the given data is \", rmse)\n",
    "print(\"\\nMean Absolute Error for the given data is \",mae)\n",
    "print(\"\\nR-Squared for the given data is \",R_Squared)\n",
    "print(\"\\nClassification Report : \")\n",
    "print(classification_report(y_test, y_pred))"
   ]
  }
 ],
 "metadata": {
  "kernelspec": {
   "display_name": "Python 3.8.12 ('ds')",
   "language": "python",
   "name": "python3"
  },
  "language_info": {
   "codemirror_mode": {
    "name": "ipython",
    "version": 3
   },
   "file_extension": ".py",
   "mimetype": "text/x-python",
   "name": "python",
   "nbconvert_exporter": "python",
   "pygments_lexer": "ipython3",
   "version": "3.8.12"
  },
  "orig_nbformat": 4,
  "vscode": {
   "interpreter": {
    "hash": "bed8d0a051867bb029166f4863a6b40fb655b99f162dcb3770d8d97cb78e1526"
   }
  }
 },
 "nbformat": 4,
 "nbformat_minor": 2
}
