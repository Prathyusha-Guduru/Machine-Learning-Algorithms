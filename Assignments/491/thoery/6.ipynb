{
 "cells": [
  {
   "cell_type": "code",
   "execution_count": 12,
   "metadata": {},
   "outputs": [],
   "source": [
    "import numpy as np\n",
    "import pandas as pd\n",
    "import math"
   ]
  },
  {
   "cell_type": "code",
   "execution_count": 13,
   "metadata": {},
   "outputs": [],
   "source": [
    "data = [(6, 5), (7, 5), (6, 7), (9, 6), (8, 8), (7, 9), (9, 10), (9, 9), (9, 6)]"
   ]
  },
  {
   "cell_type": "code",
   "execution_count": 27,
   "metadata": {},
   "outputs": [
    {
     "name": "stdout",
     "output_type": "stream",
     "text": [
      "7.777777777777778\n",
      "7.222222222222222\n"
     ]
    }
   ],
   "source": [
    "x = []\n",
    "y = []\n",
    "for i in data:\n",
    "\tx.append(i[0])\n",
    "\ty.append(i[1])\n",
    "\n",
    "print(np.mean(x))\n",
    "print(np.mean(y))\n",
    "\n",
    "\t"
   ]
  },
  {
   "cell_type": "code",
   "execution_count": 14,
   "metadata": {},
   "outputs": [],
   "source": [
    "def euc_dist(a,b):\n",
    "\treturn np.sqrt((a[0]-b[0]**2)+(a[1]-b[1]**2))"
   ]
  },
  {
   "cell_type": "code",
   "execution_count": null,
   "metadata": {},
   "outputs": [],
   "source": [
    "math.dist(data[0],)"
   ]
  },
  {
   "cell_type": "code",
   "execution_count": 15,
   "metadata": {},
   "outputs": [
    {
     "name": "stderr",
     "output_type": "stream",
     "text": [
      "C:\\Users\\prath\\AppData\\Local\\Temp/ipykernel_22576/47322995.py:2: RuntimeWarning: invalid value encountered in sqrt\n",
      "  return np.sqrt((a[0]-b[0]**2)+(a[1]-b[1]**2))\n"
     ]
    },
    {
     "data": {
      "text/plain": [
       "nan"
      ]
     },
     "execution_count": 15,
     "metadata": {},
     "output_type": "execute_result"
    }
   ],
   "source": [
    "euc_dist(data[0],(1.13,3.14))"
   ]
  },
  {
   "cell_type": "code",
   "execution_count": 28,
   "metadata": {},
   "outputs": [
    {
     "name": "stdout",
     "output_type": "stream",
     "text": [
      "0\n",
      "1\n",
      "2\n",
      "3\n",
      "4\n",
      "5\n",
      "6\n",
      "7\n",
      "8\n",
      "[7.810249675906656, 8.602325267042627, 9.219544457292887, 10.816653826391969, 11.313708498984761, 11.40175425099138, 13.453624047073712, 12.727922061357857, 10.816653826391969]\n",
      "[2.839242856819402, 2.349744666979797, 1.7836199146679201, 1.7324260445975754, 0.8132035415564792, 1.9394071259021404, 3.0399506574942956, 2.1636312070221213, 1.7324260445975754]\n",
      "c2\n",
      "c2\n",
      "c2\n",
      "c2\n",
      "c2\n",
      "c2\n",
      "c2\n",
      "c2\n",
      "c2\n",
      "10.684715101270424\n",
      "2.0437391177374784\n"
     ]
    }
   ],
   "source": [
    "c1 = (0,0)\n",
    "c2 = (7.77,7.22)\n",
    "\n",
    "dist_c1 = []\n",
    "dist_c2 = []\n",
    "\n",
    "for i in range(len(data)):\n",
    "\tprint(i)\n",
    "\tdist_c1.append(math.dist(data[i],c1))\n",
    "\tdist_c2.append(math.dist(data[i],c2))\n",
    "\n",
    "print(dist_c1)\n",
    "print(dist_c2)\n",
    "\n",
    "for i in range(len(data)):\n",
    "\tif (dist_c1[i] < dist_c2[i]):\n",
    "\t\tprint(\"c1\")\n",
    "\telse:\n",
    "\t\tprint(\"c2\")\n",
    "\n",
    "print(np.mean(dist_c1))\n",
    "print(np.mean(dist_c2))"
   ]
  },
  {
   "cell_type": "code",
   "execution_count": null,
   "metadata": {},
   "outputs": [],
   "source": []
  }
 ],
 "metadata": {
  "kernelspec": {
   "display_name": "Python 3.8.12 ('ds')",
   "language": "python",
   "name": "python3"
  },
  "language_info": {
   "codemirror_mode": {
    "name": "ipython",
    "version": 3
   },
   "file_extension": ".py",
   "mimetype": "text/x-python",
   "name": "python",
   "nbconvert_exporter": "python",
   "pygments_lexer": "ipython3",
   "version": "3.8.12"
  },
  "orig_nbformat": 4,
  "vscode": {
   "interpreter": {
    "hash": "bed8d0a051867bb029166f4863a6b40fb655b99f162dcb3770d8d97cb78e1526"
   }
  }
 },
 "nbformat": 4,
 "nbformat_minor": 2
}
