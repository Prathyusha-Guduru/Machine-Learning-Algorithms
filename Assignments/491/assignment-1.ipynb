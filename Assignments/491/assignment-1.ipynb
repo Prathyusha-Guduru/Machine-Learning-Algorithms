{
 "cells": [
  {
   "cell_type": "markdown",
   "metadata": {},
   "source": [
    "# ASSIGNMENT - 1 - MACHINE LEARNING LAB\n",
    "### CSE - C"
   ]
  },
  {
   "cell_type": "markdown",
   "metadata": {},
   "source": [
    "## Question 1\n",
    "\n",
    "Given a dataset\n",
    "x = [0, 1, 2, 3, 4, 5, 6, 7, 8, 9]\n",
    "y = [0, 1, 8, 27, 64, 125, 216, 343, 512, 729]\n",
    "(i) Fit a linear regression and compute (i) RMSE: Root Mean Squared Error, (ii) MAE: Mean Absolute Error, and (iii) R-Squared Error. \n"
   ]
  },
  {
   "cell_type": "code",
   "execution_count": 1,
   "metadata": {},
   "outputs": [],
   "source": [
    "def variance(values, mean):\n",
    "\treturn sum([(val-mean)**2 for val in values])"
   ]
  },
  {
   "cell_type": "code",
   "execution_count": 2,
   "metadata": {},
   "outputs": [],
   "source": [
    "def covariance(x, x_mean, y, y_mean):\n",
    "\tcovariance = 0.0\n",
    "\tfor r in range(len(x)):\n",
    "\t\tcovariance = covariance + (x[r] - x_mean) * (y[r] - y_mean)\n",
    "\treturn covariance"
   ]
  },
  {
   "cell_type": "code",
   "execution_count": 3,
   "metadata": {},
   "outputs": [],
   "source": [
    "def LinearRegression(x,y):\n",
    "\tx_mean = sum(x) / float(len(x))\n",
    "\ty_mean = sum(y) / float(len(y))\n",
    "\tx_variance, y_variance = variance(x, x_mean), variance(y, y_mean)\n",
    "\tx_y_covariance = covariance(x, x_mean, y, y_mean)\n",
    "\tm = x_y_covariance/ x_variance\n",
    "\tc = y_mean - m * x_mean\n",
    "\ty_pred=[]\n",
    "\t# Calculating values\n",
    "\tfor r in range(len(x)):\n",
    "\t\tz = round(m * x[r] + c,1)\n",
    "\t\ty_pred.append(z)\n",
    "\treturn(y_pred) # y_pred = predicted value"
   ]
  },
  {
   "cell_type": "code",
   "execution_count": 4,
   "metadata": {},
   "outputs": [],
   "source": [
    "# Given values\n",
    "x = [0, 1, 2, 3, 4, 5, 6, 7, 8, 9]\n",
    "y = [0, 1, 8, 27, 64, 125, 216, 343, 512, 729] # y = (original values)"
   ]
  },
  {
   "cell_type": "code",
   "execution_count": 5,
   "metadata": {},
   "outputs": [
    {
     "name": "stdout",
     "output_type": "stream",
     "text": [
      "[-136.8, -61.4, 14.0, 89.4, 164.8, 240.2, 315.6, 391.0, 466.4, 541.8]\n"
     ]
    },
    {
     "data": {
      "image/png": "[encoded data removed]",
      "text/plain": [
       "<Figure size 432x288 with 1 Axes>"
      ]
     },
     "metadata": {
      "needs_background": "light"
     },
     "output_type": "display_data"
    }
   ],
   "source": [
    "#plotting the line of y_true and y_pred\n",
    "import matplotlib.pyplot as plt\n",
    "y_pred=LinearRegression(x,y)\n",
    "print(y_pred)\n",
    "plt.plot(x,y_pred,'-bo',markerfacecolor='magenta',ms='7',label=\"YPredicted\")\n",
    "plt.plot(x,y,'-rD',markerfacecolor='black',ms='7',label='Y Original')\n",
    "plt.xlabel('X - axis')\n",
    "plt.ylabel('Y - axis')\n",
    "plt.legend()\n",
    "plt.title(\"Linear Regression\")\n",
    "plt.show()"
   ]
  },
  {
   "cell_type": "code",
   "execution_count": 6,
   "metadata": {},
   "outputs": [],
   "source": [
    "#linear regression with libraries\n",
    "from sklearn.linear_model import LinearRegression\n",
    "import numpy as np\n",
    "import math\n",
    "from math import sqrt\n",
    "# Given values\n",
    "x = np.array([0, 1, 2, 3, 4, 5, 6, 7, 8, 9]).reshape((-1, 1))\n",
    "y_true = np.array([0, 1, 8, 27, 64, 125, 216, 343, 512, 729]) # y_true=Y original values"
   ]
  },
  {
   "cell_type": "code",
   "execution_count": 7,
   "metadata": {},
   "outputs": [],
   "source": [
    "model = LinearRegression().fit(x, y_true)"
   ]
  },
  {
   "cell_type": "code",
   "execution_count": 8,
   "metadata": {},
   "outputs": [
    {
     "name": "stdout",
     "output_type": "stream",
     "text": [
      "Linear regression with numpy and sklearn libraries is: [-136.8  -61.4   14.    89.4  164.8  240.2  315.6  391.   466.4  541.8]\n",
      "The Root Mean Squared Error is  99.65781454557388\n",
      "The Mean Absolute Error is 86.4\n",
      "The R-Squared Error is 0.8252518507766\n"
     ]
    }
   ],
   "source": [
    "# Calculated values\n",
    "y_pred = model.predict(x) # y_pred = Y'\n",
    "print(\"Linear regression with numpy and sklearn libraries is:\",y_pred)\n",
    "#Root Mean Squared Error\n",
    "def RMSE(true,pred):\n",
    "\trmse = 0\n",
    "\tfor i in range(len(y)):\n",
    "\t\trmse += (true[i]-pred[i])**2\n",
    "\treturn sqrt(rmse/len(y))\n",
    "#Mean Absolute Error\n",
    "def MAE(true, pred):\n",
    "\tmae = 0\n",
    "\tfor i in range(len(y)):\n",
    "\t\tmae += abs(true[i]-pred[i])\n",
    "\treturn mae/len(y)\n",
    "#R-Squared Error\n",
    "def RSQ(true,pred):\n",
    "\ty_mean = true.mean()\n",
    "\tssr = 0\n",
    "\tsst = 0\n",
    "\tfor i in range(len(y)):\n",
    "\t\tssr += (pred[i] - y_mean)**2\n",
    "\t\tsst += (y[i] - y_mean)**2\n",
    "\treturn (ssr/sst)\n",
    "#calling functions\n",
    "lRMSE=RMSE(y_true,y_pred)\n",
    "lMAE=MAE(y_true,y_pred)\n",
    "lRSQ=RSQ(y_true,y_pred)\n",
    "#printing the results\n",
    "print(\"The Root Mean Squared Error is \",lRMSE)\n",
    "print(\"The Mean Absolute Error is\", lMAE)\n",
    "print(\"The R-Squared Error is\", lRSQ)"
   ]
  },
  {
   "cell_type": "markdown",
   "metadata": {},
   "source": [
    "## Question 2\n",
    "\n",
    "Fit a polynomial regression of the form Y=a+bx+cx2+d3 and compute (i) RMSE: Root Mean Squared Error, (ii) MAE: Mean Absolute Error, and (iii) R-Squared Error.\n"
   ]
  },
  {
   "cell_type": "code",
   "execution_count": 9,
   "metadata": {},
   "outputs": [],
   "source": [
    "x = np.array([0, 1, 2, 3, 4, 5, 6, 7, 8, 9])\n",
    "y = np.array([0, 1, 8, 27, 64, 125, 216, 343, 512, 729])\n",
    "model = np.poly1d(np.polyfit(x, y, 3))"
   ]
  },
  {
   "cell_type": "code",
   "execution_count": 10,
   "metadata": {},
   "outputs": [
    {
     "data": {
      "text/plain": [
       "poly1d([ 1.00000000e+00,  3.32563940e-14, -1.73946993e-13,  2.49083160e-13])"
      ]
     },
     "execution_count": 10,
     "metadata": {},
     "output_type": "execute_result"
    }
   ],
   "source": [
    "model"
   ]
  },
  {
   "cell_type": "code",
   "execution_count": 11,
   "metadata": {},
   "outputs": [],
   "source": [
    "line = np.linspace(0, 9, 729)"
   ]
  },
  {
   "cell_type": "code",
   "execution_count": 12,
   "metadata": {},
   "outputs": [
    {
     "data": {
      "image/png": "[encoded data removed]",
      "text/plain": [
       "<Figure size 432x288 with 1 Axes>"
      ]
     },
     "metadata": {
      "needs_background": "light"
     },
     "output_type": "display_data"
    }
   ],
   "source": [
    "plt.scatter(x, y, color='red')\n",
    "plt.plot(line, model(line)) ##line of polynomial regression\n",
    "plt.xlabel('X - axis')\n",
    "plt.ylabel('Y - axis')\n",
    "plt.title(\"Polynomial Regression\")\n",
    "plt.show()"
   ]
  },
  {
   "cell_type": "code",
   "execution_count": 13,
   "metadata": {},
   "outputs": [
    {
     "name": "stdout",
     "output_type": "stream",
     "text": [
      "The Root Mean Squared Error is  312.7861889534127\n",
      "The Mean Absolute Error is 202.40000000000003\n",
      "The R-Squared Error is 0.720795119140307\n"
     ]
    }
   ],
   "source": [
    "#calling functions\n",
    "PRMSE=RMSE(y,model)\n",
    "PMAE=MAE(y,model)\n",
    "PRSQ=RSQ(y,model)\n",
    "#printing the results\n",
    "print(\"The Root Mean Squared Error is \",PRMSE)\n",
    "print(\"The Mean Absolute Error is\", PMAE)\n",
    "print(\"The R-Squared Error is\", PRSQ)"
   ]
  },
  {
   "cell_type": "code",
   "execution_count": null,
   "metadata": {},
   "outputs": [],
   "source": []
  }
 ],
 "metadata": {
  "kernelspec": {
   "display_name": "Python 3.8.12 ('ds')",
   "language": "python",
   "name": "python3"
  },
  "language_info": {
   "codemirror_mode": {
    "name": "ipython",
    "version": 3
   },
   "file_extension": ".py",
   "mimetype": "text/x-python",
   "name": "python",
   "nbconvert_exporter": "python",
   "pygments_lexer": "ipython3",
   "version": "3.8.12"
  },
  "orig_nbformat": 4,
  "vscode": {
   "interpreter": {
    "hash": "bed8d0a051867bb029166f4863a6b40fb655b99f162dcb3770d8d97cb78e1526"
   }
  }
 },
 "nbformat": 4,
 "nbformat_minor": 2
}
