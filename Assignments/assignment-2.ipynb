{
 "cells": [
  {
   "cell_type": "markdown",
   "metadata": {},
   "source": [
    "# Assignment - 2\n",
    "### Prathyusha Guduru \n",
    "#### AP19110010494 - CSE-C"
   ]
  },
  {
   "cell_type": "markdown",
   "metadata": {},
   "source": [
    "## Use python scikit-learn package for the following programs.\n",
    "### Implement Decision Tree Classifier for classification of Iris dataset\n",
    "- Load the data set\n",
    "- Split the data set to train and test sets\n",
    "- Train a Decision Tree using train set\n",
    "- Test the model using test set.\n",
    "- Find accuracy and confusion Matrix."
   ]
  },
  {
   "cell_type": "code",
   "execution_count": 2,
   "metadata": {},
   "outputs": [],
   "source": [
    "\n",
    "from IPython.display import set_matplotlib_formats\n",
    "set_matplotlib_formats('png', 'pdf')"
   ]
  },
  {
   "cell_type": "code",
   "execution_count": 10,
   "metadata": {},
   "outputs": [
    {
     "name": "stdout",
     "output_type": "stream",
     "text": [
      "Train data accuracy:  1.0 \n",
      "Test data accuracy: 0.9473684210526315\n",
      "[[11  0  0]\n",
      " [ 0 14  1]\n",
      " [ 0  1 11]]\n"
     ]
    },
    {
     "data": {
      "image/png": "[encoded data removed]",
      "text/plain": [
       "<Figure size 288x288 with 2 Axes>"
      ]
     },
     "metadata": {
      "needs_background": "light"
     },
     "output_type": "display_data"
    }
   ],
   "source": [
    "#Importing  necessary libraries\n",
    "\n",
    "import pandas as pd\n",
    "import numpy as np\n",
    "from sklearn.datasets import load_iris\n",
    "from sklearn.metrics import accuracy_score\n",
    "from sklearn.metrics import confusion_matrix\n",
    "import matplotlib.pyplot as plt\n",
    "from sklearn.model_selection import train_test_split\n",
    "from sklearn.tree import DecisionTreeClassifier\n",
    "\n",
    "\n",
    "#Loadin IRIS Dataset from scikit learn\n",
    "data = load_iris()\n",
    "X = data.data\n",
    "y = data.target\n",
    "\n",
    "#Splitting train and test data\n",
    "\n",
    "X_train, X_test, y_train, y_test = train_test_split(X,y, random_state =\n",
    "50, test_size = 0.25)\n",
    "\n",
    "#Creating a decision tree object\n",
    "dtmodel = DecisionTreeClassifier()\n",
    "\n",
    "#Training the decision tree model \n",
    "dtmodel.fit(X_train,y_train)\n",
    "y_pred = dtmodel.predict(X_test)\n",
    "\n",
    "#Calculating accuracy matrix\n",
    "print(f\"Train data accuracy:  {accuracy_score(y_true = y_train,y_pred=dtmodel.predict(X_train))} \")\n",
    "print(f\"Test data accuracy: {accuracy_score(y_true = y_test,y_pred=y_pred)}\")\n",
    "\n",
    "\n",
    "#Calculating confusion matrix\n",
    "print(confusion_matrix(y_test, y_pred))\n",
    "\n",
    "#Displaying plot for confusion matrix\n",
    "plt.matshow(confusion_matrix(y_test, y_pred),cmap=\"magma\")\n",
    "plt.title('Confusion matrix')\n",
    "plt.colorbar()\n",
    "plt.ylabel('True Y')\n",
    "plt.xlabel('Predicted Y')\n",
    "plt.show()"
   ]
  },
  {
   "cell_type": "markdown",
   "metadata": {},
   "source": [
    "### Implement Random Forest Classifier for classification of Iris dataset\n",
    "- Load the data set\n",
    "- Split the data set to train and test sets\n",
    "- Train a Random Forest model using train set\n",
    "- Test the model using test set.\n",
    "- Find accuracy and confusion Matrix.\n"
   ]
  },
  {
   "cell_type": "code",
   "execution_count": 11,
   "metadata": {},
   "outputs": [
    {
     "name": "stdout",
     "output_type": "stream",
     "text": [
      "Train data accuracy: 1.0\n",
      "Test data accuracy: 0.9473684210526315\n",
      "[[11  0  0]\n",
      " [ 0 14  1]\n",
      " [ 0  1 11]]\n"
     ]
    },
    {
     "data": {
      "image/png": "[encoded data removed]",
      "text/plain": [
       "<Figure size 288x288 with 2 Axes>"
      ]
     },
     "metadata": {
      "needs_background": "light"
     },
     "output_type": "display_data"
    }
   ],
   "source": [
    "#Importing necessary libraries\n",
    "from sklearn.ensemble import RandomForestClassifier\n",
    "\n",
    "#Creating the model object\n",
    "rfmodel = RandomForestClassifier(n_estimators=100)\n",
    "\n",
    "#Training the model\n",
    "rfmodel.fit(X_train,y_train)\n",
    "y_pred = rfmodel.predict(X_test)\n",
    "\n",
    "#Getting accuracy matrix\n",
    "print(f\"Train data accuracy: {accuracy_score(y_true = y_train,y_pred=rfmodel.predict(X_train))}\")\n",
    "print(f\"Test data accuracy: {accuracy_score(y_true = y_test,y_pred=y_pred)}\")\n",
    "print(confusion_matrix(y_test, y_pred))\n",
    "\n",
    "#Calculating confusion matrix\n",
    "plt.matshow(confusion_matrix(y_test, y_pred),cmap=\"magma\")\n",
    "\n",
    "#Displaying plot for confusion matrix\n",
    "plt.title('Confusion matrix')\n",
    "plt.colorbar()\n",
    "plt.ylabel('True label')\n",
    "plt.xlabel('Predicted label')\n",
    "plt.show()"
   ]
  }
 ],
 "metadata": {
  "interpreter": {
   "hash": "0ba1f6258c9fa5fb0c231fed128883c8b7e548edbadd4b1a8a40937ca4990807"
  },
  "kernelspec": {
   "display_name": "Python 3",
   "language": "python",
   "name": "python3"
  },
  "language_info": {
   "codemirror_mode": {
    "name": "ipython",
    "version": 3
   },
   "file_extension": ".py",
   "mimetype": "text/x-python",
   "name": "python",
   "nbconvert_exporter": "python",
   "pygments_lexer": "ipython3",
   "version": "3.8.12"
  }
 },
 "nbformat": 4,
 "nbformat_minor": 2
}
