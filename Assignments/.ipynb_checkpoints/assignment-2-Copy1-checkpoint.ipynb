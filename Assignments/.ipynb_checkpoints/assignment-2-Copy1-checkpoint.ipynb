{
 "cells": [
  {
   "cell_type": "markdown",
   "metadata": {},
   "source": [
    "# Assignment - 2\n",
    "### Nikitha Godavarthi\n"
   ]
  },
  {
   "cell_type": "markdown",
   "metadata": {},
   "source": [
    "## Question 1"
   ]
  },
  {
   "cell_type": "code",
   "execution_count": 1,
   "metadata": {},
   "outputs": [
    {
     "name": "stdout",
     "output_type": "stream",
     "text": [
      "Train data accuracy:  1.0 \n",
      "Test data accuracy: 0.9473684210526315\n",
      "[[11  0  0]\n",
      " [ 0 14  1]\n",
      " [ 0  1 11]]\n"
     ]
    },
    {
     "data": {
      "image/png": "[encoded data removed]",
      "text/plain": [
       "<Figure size 288x288 with 2 Axes>"
      ]
     },
     "metadata": {
      "needs_background": "light"
     },
     "output_type": "display_data"
    }
   ],
   "source": [
    "#Importing libraries\n",
    "\n",
    "import pandas as pd\n",
    "import numpy as np\n",
    "from sklearn.datasets import load_iris\n",
    "from sklearn.metrics import accuracy_score\n",
    "from sklearn.metrics import confusion_matrix\n",
    "import matplotlib.pyplot as plt\n",
    "from sklearn.model_selection import train_test_split\n",
    "from sklearn.tree import DecisionTreeClassifier\n",
    "\n",
    "\n",
    "#Loadin IRIS Dataset from scikit learn\n",
    "data = load_iris()\n",
    "X = data.data\n",
    "y = data.target\n",
    "\n",
    "#Splitting train and test data\n",
    "\n",
    "X_train, X_test, y_train, y_test = train_test_split(X,y, random_state =\n",
    "50, test_size = 0.25)\n",
    "\n",
    "#Creating a decision tree object\n",
    "dtmodel = DecisionTreeClassifier()\n",
    "\n",
    "#Training the decision tree model \n",
    "dtmodel.fit(X_train,y_train)\n",
    "y_pred = dtmodel.predict(X_test)\n",
    "\n",
    "#Calculating accuracy matrix\n",
    "print(f\"Train data accuracy:  {accuracy_score(y_true = y_train,y_pred=dtmodel.predict(X_train))} \")\n",
    "print(f\"Test data accuracy: {accuracy_score(y_true = y_test,y_pred=y_pred)}\")\n",
    "\n",
    "\n",
    "#Calculating confusion matrix\n",
    "print(confusion_matrix(y_test, y_pred))\n",
    "\n",
    "#Displaying plot for confusion matrix\n",
    "plt.matshow(confusion_matrix(y_test, y_pred),cmap=\"inferno\")\n",
    "plt.title('Confusion matrix')\n",
    "plt.colorbar()\n",
    "plt.ylabel('True Y')\n",
    "plt.xlabel('Predicted Y')\n",
    "plt.show()"
   ]
  },
  {
   "cell_type": "markdown",
   "metadata": {},
   "source": [
    "### Question 2\n"
   ]
  },
  {
   "cell_type": "code",
   "execution_count": 2,
   "metadata": {},
   "outputs": [
    {
     "name": "stdout",
     "output_type": "stream",
     "text": [
      "Train data accuracy: 1.0\n",
      "Test data accuracy: 0.9473684210526315\n",
      "[[11  0  0]\n",
      " [ 0 14  1]\n",
      " [ 0  1 11]]\n"
     ]
    },
    {
     "data": {
      "image/png": "[encoded data removed]",
      "text/plain": [
       "<Figure size 288x288 with 2 Axes>"
      ]
     },
     "metadata": {
      "needs_background": "light"
     },
     "output_type": "display_data"
    }
   ],
   "source": [
    "#Importing necessary libraries\n",
    "from sklearn.ensemble import RandomForestClassifier\n",
    "\n",
    "#Creating the model object\n",
    "rfmodel = RandomForestClassifier(n_estimators=100)\n",
    "\n",
    "#Training the model\n",
    "rfmodel.fit(X_train,y_train)\n",
    "y_pred = rfmodel.predict(X_test)\n",
    "\n",
    "#Getting accuracy matrix\n",
    "print(f\"Train data accuracy: {accuracy_score(y_true = y_train,y_pred=rfmodel.predict(X_train))}\")\n",
    "print(f\"Test data accuracy: {accuracy_score(y_true = y_test,y_pred=y_pred)}\")\n",
    "print(confusion_matrix(y_test, y_pred))\n",
    "\n",
    "#Calculating confusion matrix\n",
    "plt.matshow(confusion_matrix(y_test, y_pred),cmap=\"inferno\")\n",
    "\n",
    "#Displaying plot for confusion matrix\n",
    "plt.title('Confusion matrix')\n",
    "plt.colorbar()\n",
    "plt.ylabel('True label')\n",
    "plt.xlabel('Predicted label')\n",
    "plt.show()"
   ]
  },
  {
   "cell_type": "code",
   "execution_count": null,
   "metadata": {},
   "outputs": [],
   "source": []
  }
 ],
 "metadata": {
  "interpreter": {
   "hash": "0ba1f6258c9fa5fb0c231fed128883c8b7e548edbadd4b1a8a40937ca4990807"
  },
  "kernelspec": {
   "display_name": "Python 3",
   "language": "python",
   "name": "python3"
  },
  "language_info": {
   "codemirror_mode": {
    "name": "ipython",
    "version": 3
   },
   "file_extension": ".py",
   "mimetype": "text/x-python",
   "name": "python",
   "nbconvert_exporter": "python",
   "pygments_lexer": "ipython3",
   "version": "3.8.8"
  }
 },
 "nbformat": 4,
 "nbformat_minor": 2
}
